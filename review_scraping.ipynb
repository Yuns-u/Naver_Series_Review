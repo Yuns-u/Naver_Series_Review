{
  "nbformat": 4,
  "nbformat_minor": 0,
  "metadata": {
    "colab": {
      "name": "review_scraping.ipynb",
      "private_outputs": true,
      "provenance": [],
      "authorship_tag": "ABX9TyNpVt5PZC2hBO9xDZkyrn0r",
      "include_colab_link": true
    },
    "kernelspec": {
      "name": "python3",
      "display_name": "Python 3"
    },
    "language_info": {
      "name": "python"
    }
  },
  "cells": [
    {
      "cell_type": "markdown",
      "metadata": {
        "id": "view-in-github",
        "colab_type": "text"
      },
      "source": [
        "<a href=\"https://colab.research.google.com/github/Yuns-u/Naver_Series_Review/blob/main/review_scraping.ipynb\" target=\"_parent\"><img src=\"https://colab.research.google.com/assets/colab-badge.svg\" alt=\"Open In Colab\"/></a>"
      ]
    },
    {
      "cell_type": "code",
      "metadata": {
        "id": "TjZDwMquCSco"
      },
      "source": [
        "pip install xmltodict"
      ],
      "execution_count": null,
      "outputs": []
    },
    {
      "cell_type": "code",
      "metadata": {
        "id": "XkarGpK7CIYb"
      },
      "source": [
        "#필요한 모듈 다운\n",
        "import pandas as pd #데이터프레임 사용하기 위함\n",
        "import xmltodict #xml을 parsing하기 위함\n",
        "from urllib.request import urlopen #url을 이용하여 웹상의 데이터 불러오기 위함\n",
        "import json"
      ],
      "execution_count": null,
      "outputs": []
    },
    {
      "cell_type": "code",
      "metadata": {
        "id": "1o90qX2EEftb"
      },
      "source": [
        "review_dict = [] \n",
        "\n",
        "for j in range(1,11): \n",
        "  url = \"https://itunes.apple.com/kr/rss/customerreviews/page=%i/id=433592412/sortby=mostrecent/xml?urlDesc=/customerreviews/id=433592412/sortBy=mostRecent/xml\" % j \n",
        "  response = urlopen(url).read() \n",
        "\n",
        "  xml = xmltodict.parse(response) \n",
        "  XmlToJson = json.loads(json.dumps(xml)) \n",
        "  \n",
        "  for i in range(len(XmlToJson['feed']['entry'])): \n",
        "    review_dict.append({ \n",
        "        'DATE' : XmlToJson['feed']['entry'][i]['updated'], \n",
        "        'STAR' : int(XmlToJson['feed']['entry'][i]['im:rating']), \n",
        "        'LIKE' : int(XmlToJson['feed']['entry'][i]['im:voteSum']), \n",
        "        'DISLIKE' : int(XmlToJson['feed']['entry'][i]['im:voteCount']) - int(XmlToJson['feed']['entry'][i]['im:voteSum']), \n",
        "        'TITLE' : XmlToJson['feed']['entry'][i]['title'], \n",
        "        'REVIEW' : XmlToJson['feed']['entry'][i]['content'][0]['#text'] \n",
        "    }) \n",
        "    \n",
        "review_df = pd.DataFrame(review_dict) \n",
        "review_df['DATE'] = pd.to_datetime(review_df['DATE'], format=\"%Y-%m-%dT%H:%M:%S-07:00\") \n",
        "review_df.to_csv('IOS_ReviewData.csv', encoding='utf-8')"
      ],
      "execution_count": null,
      "outputs": []
    },
    {
      "cell_type": "code",
      "metadata": {
        "id": "eYlOb4GyL4bW"
      },
      "source": [
        "review_df"
      ],
      "execution_count": null,
      "outputs": []
    },
    {
      "cell_type": "code",
      "metadata": {
        "id": "qwQfHplkLFPN"
      },
      "source": [
        "from google.colab import files\n",
        "files.download('IOS_ReviewData.csv')"
      ],
      "execution_count": null,
      "outputs": []
    }
  ]
}